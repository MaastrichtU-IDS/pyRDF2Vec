{
 "cells": [
  {
   "cell_type": "code",
   "execution_count": 2,
   "metadata": {},
   "outputs": [
    {
     "name": "stdout",
     "output_type": "stream",
     "text": [
      "Collecting pyspark\n",
      "  Downloading pyspark-3.0.1.tar.gz (204.2 MB)\n",
      "\u001b[K     |████████████████████████████████| 204.2 MB 31 kB/s s eta 0:00:01    |████                            | 26.0 MB 12.9 MB/s eta 0:00:14     |████▊                           | 30.4 MB 12.9 MB/s eta 0:00:14     |██████▊                         | 43.1 MB 12.4 MB/s eta 0:00:14     |████████████▋                   | 80.2 MB 10.2 MB/s eta 0:00:13     |████████████████████▏           | 129.0 MB 3.0 MB/s eta 0:00:25     |████████████████████▊           | 132.0 MB 3.0 MB/s eta 0:00:24     |████████████████████████████▉   | 184.0 MB 310 kB/s eta 0:01:06     |██████████████████████████████▏ | 192.8 MB 8.0 MB/s eta 0:00:02\n",
      "\u001b[?25hCollecting findspark\n",
      "  Downloading findspark-1.4.2-py2.py3-none-any.whl (4.2 kB)\n",
      "Collecting gensim\n",
      "  Downloading gensim-3.8.3-cp38-cp38-manylinux1_x86_64.whl (24.2 MB)\n",
      "\u001b[K     |████████████████████████████████| 24.2 MB 13.0 MB/s eta 0:00:01     |████████████████████▌           | 15.5 MB 8.0 MB/s eta 0:00:02\n",
      "\u001b[?25hRequirement already satisfied: matplotlib in /opt/conda/lib/python3.8/site-packages (from -r requirements.txt (line 4)) (3.2.2)\n",
      "Requirement already satisfied: networkx in /opt/conda/lib/python3.8/site-packages (from -r requirements.txt (line 5)) (2.4)\n",
      "Requirement already satisfied: numpy in /opt/conda/lib/python3.8/site-packages (from -r requirements.txt (line 6)) (1.19.1)\n",
      "Requirement already satisfied: pandas in /opt/conda/lib/python3.8/site-packages (from -r requirements.txt (line 7)) (1.1.0)\n",
      "Collecting rdflib\n",
      "  Downloading rdflib-5.0.0-py3-none-any.whl (231 kB)\n",
      "\u001b[K     |████████████████████████████████| 231 kB 39.7 MB/s eta 0:00:01\n",
      "\u001b[?25hRequirement already satisfied: scikit_learn in /opt/conda/lib/python3.8/site-packages (from -r requirements.txt (line 9)) (0.23.2)\n",
      "Requirement already satisfied: tqdm in /opt/conda/lib/python3.8/site-packages (from -r requirements.txt (line 10)) (4.48.2)\n",
      "Collecting python-louvain\n",
      "  Downloading python-louvain-0.14.tar.gz (19 kB)\n",
      "Collecting py4j==0.10.9\n",
      "  Downloading py4j-0.10.9-py2.py3-none-any.whl (198 kB)\n",
      "\u001b[K     |████████████████████████████████| 198 kB 17.4 MB/s eta 0:00:01\n",
      "\u001b[?25hRequirement already satisfied: scipy>=0.18.1 in /opt/conda/lib/python3.8/site-packages (from gensim->-r requirements.txt (line 3)) (1.5.2)\n",
      "Collecting smart-open>=1.8.1\n",
      "  Downloading smart_open-2.1.1.tar.gz (111 kB)\n",
      "\u001b[K     |████████████████████████████████| 111 kB 13.3 MB/s eta 0:00:01\n",
      "\u001b[?25hRequirement already satisfied: six>=1.5.0 in /opt/conda/lib/python3.8/site-packages (from gensim->-r requirements.txt (line 3)) (1.15.0)\n",
      "Requirement already satisfied: python-dateutil>=2.1 in /opt/conda/lib/python3.8/site-packages (from matplotlib->-r requirements.txt (line 4)) (2.8.1)\n",
      "Requirement already satisfied: pyparsing!=2.0.4,!=2.1.2,!=2.1.6,>=2.0.1 in /opt/conda/lib/python3.8/site-packages (from matplotlib->-r requirements.txt (line 4)) (2.4.7)\n",
      "Requirement already satisfied: cycler>=0.10 in /opt/conda/lib/python3.8/site-packages (from matplotlib->-r requirements.txt (line 4)) (0.10.0)\n",
      "Requirement already satisfied: kiwisolver>=1.0.1 in /opt/conda/lib/python3.8/site-packages (from matplotlib->-r requirements.txt (line 4)) (1.2.0)\n",
      "Requirement already satisfied: decorator>=4.3.0 in /opt/conda/lib/python3.8/site-packages (from networkx->-r requirements.txt (line 5)) (4.4.2)\n",
      "Requirement already satisfied: pytz>=2017.2 in /opt/conda/lib/python3.8/site-packages (from pandas->-r requirements.txt (line 7)) (2020.1)\n",
      "Collecting isodate\n",
      "  Downloading isodate-0.6.0-py2.py3-none-any.whl (45 kB)\n",
      "\u001b[K     |████████████████████████████████| 45 kB 1.9 MB/s  eta 0:00:01\n",
      "\u001b[?25hRequirement already satisfied: joblib>=0.11 in /opt/conda/lib/python3.8/site-packages (from scikit_learn->-r requirements.txt (line 9)) (0.16.0)\n",
      "Requirement already satisfied: threadpoolctl>=2.0.0 in /opt/conda/lib/python3.8/site-packages (from scikit_learn->-r requirements.txt (line 9)) (2.1.0)\n",
      "Requirement already satisfied: requests in /opt/conda/lib/python3.8/site-packages (from smart-open>=1.8.1->gensim->-r requirements.txt (line 3)) (2.24.0)\n",
      "Collecting boto\n",
      "  Downloading boto-2.49.0-py2.py3-none-any.whl (1.4 MB)\n",
      "\u001b[K     |████████████████████████████████| 1.4 MB 13.2 MB/s eta 0:00:01\n",
      "\u001b[?25hCollecting boto3\n",
      "  Downloading boto3-1.15.2-py2.py3-none-any.whl (129 kB)\n",
      "\u001b[K     |████████████████████████████████| 129 kB 13.6 MB/s eta 0:00:01\n",
      "\u001b[?25hRequirement already satisfied: urllib3!=1.25.0,!=1.25.1,<1.26,>=1.21.1 in /opt/conda/lib/python3.8/site-packages (from requests->smart-open>=1.8.1->gensim->-r requirements.txt (line 3)) (1.25.10)\n",
      "Requirement already satisfied: chardet<4,>=3.0.2 in /opt/conda/lib/python3.8/site-packages (from requests->smart-open>=1.8.1->gensim->-r requirements.txt (line 3)) (3.0.4)\n",
      "Requirement already satisfied: idna<3,>=2.5 in /opt/conda/lib/python3.8/site-packages (from requests->smart-open>=1.8.1->gensim->-r requirements.txt (line 3)) (2.10)\n",
      "Requirement already satisfied: certifi>=2017.4.17 in /opt/conda/lib/python3.8/site-packages (from requests->smart-open>=1.8.1->gensim->-r requirements.txt (line 3)) (2020.6.20)\n",
      "Collecting jmespath<1.0.0,>=0.7.1\n",
      "  Downloading jmespath-0.10.0-py2.py3-none-any.whl (24 kB)\n",
      "Collecting botocore<1.19.0,>=1.18.2\n",
      "  Downloading botocore-1.18.2-py2.py3-none-any.whl (6.6 MB)\n",
      "\u001b[K     |████████████████████████████████| 6.6 MB 11.8 MB/s eta 0:00:01\n",
      "\u001b[?25hCollecting s3transfer<0.4.0,>=0.3.0\n",
      "  Downloading s3transfer-0.3.3-py2.py3-none-any.whl (69 kB)\n",
      "\u001b[K     |████████████████████████████████| 69 kB 3.9 MB/s  eta 0:00:01\n",
      "\u001b[?25hBuilding wheels for collected packages: pyspark, python-louvain, smart-open\n",
      "  Building wheel for pyspark (setup.py) ... \u001b[?25ldone\n",
      "\u001b[?25h  Created wheel for pyspark: filename=pyspark-3.0.1-py2.py3-none-any.whl size=204612243 sha256=a354112128a22f88af36ccb52279b44fd32d5961325cff04fafefa396249cb8f\n",
      "  Stored in directory: /home/jovyan/.cache/pip/wheels/ea/21/84/970b03913d0d6a96ef51c34c878add0de9e4ecbb7c764ea21f\n",
      "  Building wheel for python-louvain (setup.py) ... \u001b[?25ldone\n",
      "\u001b[?25h  Created wheel for python-louvain: filename=python_louvain-0.14-py3-none-any.whl size=9291 sha256=96b13274d1f6de87f9f0f165d11dfd30e13609f3a4985ca600871b6efd3aa8aa\n",
      "  Stored in directory: /home/jovyan/.cache/pip/wheels/22/f9/ce/591ffa9b16851da50ca337c9ecfd44d79a7b87fcbd2a7a0021\n",
      "  Building wheel for smart-open (setup.py) ... \u001b[?25ldone\n",
      "\u001b[?25h  Created wheel for smart-open: filename=smart_open-2.1.1-py3-none-any.whl size=112413 sha256=f6da92a5fd07042689b9370504194c2d28eef322b3c1bb47893d9763f00f6880\n",
      "  Stored in directory: /home/jovyan/.cache/pip/wheels/75/81/f7/25ad503e6a6a4bd757502b7b8329da19f9ecdbba5965de36c8\n",
      "Successfully built pyspark python-louvain smart-open\n",
      "Installing collected packages: py4j, pyspark, findspark, boto, jmespath, botocore, s3transfer, boto3, smart-open, gensim, isodate, rdflib, python-louvain\n",
      "Successfully installed boto-2.49.0 boto3-1.15.2 botocore-1.18.2 findspark-1.4.2 gensim-3.8.3 isodate-0.6.0 jmespath-0.10.0 py4j-0.10.9 pyspark-3.0.1 python-louvain-0.14 rdflib-5.0.0 s3transfer-0.3.3 smart-open-2.1.1\n"
     ]
    }
   ],
   "source": [
    "!pip install -r requirements.txt"
   ]
  },
  {
   "cell_type": "code",
   "execution_count": 3,
   "metadata": {},
   "outputs": [],
   "source": [
    "import random\n",
    "import os\n",
    "import numpy as np\n",
    "import rdflib\n",
    "import pandas as pd\n",
    "import matplotlib.pyplot as plt\n",
    "\n",
    "from sklearn.svm import SVC\n",
    "from sklearn.metrics import confusion_matrix, accuracy_score\n",
    "from sklearn.manifold import TSNE\n",
    "\n",
    "from rdf2vec.converters import rdflib_to_kg\n",
    "from rdf2vec.walkers import RandomWalker\n",
    "from rdf2vec import RDF2VecTransformer\n",
    "\n",
    "import warnings\n",
    "warnings.filterwarnings('ignore')"
   ]
  },
  {
   "cell_type": "markdown",
   "metadata": {},
   "source": [
    "## Import the rdf file (ttl, nt, all other supported by rdflib)"
   ]
  },
  {
   "cell_type": "code",
   "execution_count": 4,
   "metadata": {},
   "outputs": [],
   "source": [
    "rdf_file ='neuro_dkg11.ttl'\n",
    "#rdf_file = 'input/covid19-literature-knowledge-graph/sample_kg.nt'\n",
    "#fileext = '.nq.gz'\n",
    "\n",
    "#predicates for Random Walker to follow\n",
    "label_predicates = ['<http://www.w3.org/1999/02/22-rdf-syntax-ns#type>']"
   ]
  },
  {
   "cell_type": "code",
   "execution_count": 5,
   "metadata": {},
   "outputs": [
    {
     "name": "stderr",
     "output_type": "stream",
     "text": [
      "100%|██████████| 1420/1420 [00:00<00:00, 37981.47it/s]\n"
     ]
    }
   ],
   "source": [
    "kg = rdflib_to_kg(rdf_file, filetype='turtle')"
   ]
  },
  {
   "cell_type": "code",
   "execution_count": 6,
   "metadata": {},
   "outputs": [
    {
     "name": "stdout",
     "output_type": "stream",
     "text": [
      "<SparkContext master=local[10] appName=pyspark-shell>\n"
     ]
    }
   ],
   "source": [
    "# We'll all possible walks of depth 2\n",
    "random_walker = RandomWalker(2, 4)\n",
    "\n",
    "# Create embeddings with random walks\n",
    "transformer = RDF2VecTransformer(walkers=[random_walker], sg=1)\n"
   ]
  },
  {
   "cell_type": "code",
   "execution_count": 7,
   "metadata": {},
   "outputs": [],
   "source": [
    "all_entities = kg.get_all_entities()"
   ]
  },
  {
   "cell_type": "code",
   "execution_count": 8,
   "metadata": {},
   "outputs": [
    {
     "data": {
      "text/plain": [
       "['http://www.w3id.org/neurodkg/Instances/context9',\n",
       " 'http://www.w3id.org/drugbank:DB00715',\n",
       " '6-16',\n",
       " 'http://www.w3id.org/neurodkg/Instances/context146',\n",
       " 'http://www.w3id.org/doid/12129',\n",
       " 'Multiple Sclerosis',\n",
       " 'http://www.w3id.org/doid/1824',\n",
       " 'http://purl.bioontology.org/ontology/OMIM/MTHU004076',\n",
       " 'http://www.w3id.org/neurodkg/Instances/context143',\n",
       " 'http://www.w3id.org/neurodkg/Instances/context49']"
      ]
     },
     "execution_count": 8,
     "metadata": {},
     "output_type": "execute_result"
    }
   ],
   "source": [
    "all_entities[:10]"
   ]
  },
  {
   "cell_type": "code",
   "execution_count": 9,
   "metadata": {},
   "outputs": [
    {
     "name": "stdout",
     "output_type": "stream",
     "text": [
      "./walks/randwalks_n4_depth2_pagerank_uniform.txt\n",
      "Time elapsed to generate features: 00:00:06\n",
      "Extracted 0 walks for 966 instances!\n",
      "Processing  uniform\n",
      "Processing  uniform\n",
      "Processing  uniform\n",
      "Processing  uniform\n",
      "Processing  uniform\n",
      "Processing  uniform\n",
      "Processing  uniform\n",
      "Processing  uniform\n",
      "Processing  uniform\n",
      "Processing  uniform\n",
      "Processing  uniform\n"
     ]
    }
   ],
   "source": [
    "walk_embeddings = transformer.fit_transform(kg, all_entities)"
   ]
  },
  {
   "cell_type": "code",
   "execution_count": null,
   "metadata": {},
   "outputs": [],
   "source": [
    "walk_embeddings[:10]"
   ]
  },
  {
   "cell_type": "code",
   "execution_count": 11,
   "metadata": {},
   "outputs": [
    {
     "data": {
      "text/plain": [
       "966"
      ]
     },
     "execution_count": 11,
     "metadata": {},
     "output_type": "execute_result"
    }
   ],
   "source": [
    "len(all_entities)"
   ]
  },
  {
   "cell_type": "code",
   "execution_count": 12,
   "metadata": {},
   "outputs": [
    {
     "data": {
      "text/plain": [
       "966"
      ]
     },
     "execution_count": 12,
     "metadata": {},
     "output_type": "execute_result"
    }
   ],
   "source": [
    "len(walk_embeddings)"
   ]
  },
  {
   "cell_type": "markdown",
   "metadata": {},
   "source": [
    "## Generating a dataframe for entity embeddings"
   ]
  },
  {
   "cell_type": "code",
   "execution_count": 19,
   "metadata": {},
   "outputs": [],
   "source": [
    "df =pd.DataFrame(zip(all_entities, walk_embeddings), columns=['entity', 'embedding'])\n",
    "    "
   ]
  },
  {
   "cell_type": "code",
   "execution_count": 20,
   "metadata": {},
   "outputs": [],
   "source": [
    "# a function for converting entity names\n",
    "# if you need to provide entity names with CURIE format (e.g. DRUGBANK:DB00012)\n",
    "def replace_prefix(entity):\n",
    "    if entity.startswith('http://www.w3id.org/drugbank:'):\n",
    "        return entity.replace('http://www.w3id.org/drugbank:', 'DRUGBANK:')\n",
    "    else:\n",
    "        return entity\n",
    "\n",
    "df.entity = df.entity.apply(replace_prefix)"
   ]
  },
  {
   "cell_type": "code",
   "execution_count": 21,
   "metadata": {},
   "outputs": [],
   "source": [
    "df.to_json('neurodkg_embedding.json',orient='records')"
   ]
  },
  {
   "cell_type": "code",
   "execution_count": 1,
   "metadata": {},
   "outputs": [],
   "source": [
    "import pandas as pd\n",
    "import numpy as np\n",
    "df =pd.read_json('neurodkg_embedding.json',orient='records')"
   ]
  },
  {
   "cell_type": "code",
   "execution_count": 2,
   "metadata": {},
   "outputs": [
    {
     "data": {
      "text/html": [
       "<div>\n",
       "<style scoped>\n",
       "    .dataframe tbody tr th:only-of-type {\n",
       "        vertical-align: middle;\n",
       "    }\n",
       "\n",
       "    .dataframe tbody tr th {\n",
       "        vertical-align: top;\n",
       "    }\n",
       "\n",
       "    .dataframe thead th {\n",
       "        text-align: right;\n",
       "    }\n",
       "</style>\n",
       "<table border=\"1\" class=\"dataframe\">\n",
       "  <thead>\n",
       "    <tr style=\"text-align: right;\">\n",
       "      <th></th>\n",
       "      <th>entity</th>\n",
       "      <th>embedding</th>\n",
       "    </tr>\n",
       "  </thead>\n",
       "  <tbody>\n",
       "    <tr>\n",
       "      <th>0</th>\n",
       "      <td>http://www.w3id.org/neurodkg/Instances/context9</td>\n",
       "      <td>[-0.054165896000000005, -0.0011995625, -0.0233...</td>\n",
       "    </tr>\n",
       "    <tr>\n",
       "      <th>1</th>\n",
       "      <td>DRUGBANK:DB00715</td>\n",
       "      <td>[-0.0284365881, -0.00028513540000000003, -0.01...</td>\n",
       "    </tr>\n",
       "    <tr>\n",
       "      <th>2</th>\n",
       "      <td>6-16</td>\n",
       "      <td>[5.2648e-05, 0.0004987813, -0.0005283586, -0.0...</td>\n",
       "    </tr>\n",
       "    <tr>\n",
       "      <th>3</th>\n",
       "      <td>http://www.w3id.org/neurodkg/Instances/context146</td>\n",
       "      <td>[-0.0484109446, -0.0004909278, -0.0216075275, ...</td>\n",
       "    </tr>\n",
       "    <tr>\n",
       "      <th>4</th>\n",
       "      <td>http://www.w3id.org/doid/12129</td>\n",
       "      <td>[-0.0305632632, 0.0001149263, -0.0130742388, -...</td>\n",
       "    </tr>\n",
       "  </tbody>\n",
       "</table>\n",
       "</div>"
      ],
      "text/plain": [
       "                                              entity  \\\n",
       "0    http://www.w3id.org/neurodkg/Instances/context9   \n",
       "1                                   DRUGBANK:DB00715   \n",
       "2                                               6-16   \n",
       "3  http://www.w3id.org/neurodkg/Instances/context146   \n",
       "4                     http://www.w3id.org/doid/12129   \n",
       "\n",
       "                                           embedding  \n",
       "0  [-0.054165896000000005, -0.0011995625, -0.0233...  \n",
       "1  [-0.0284365881, -0.00028513540000000003, -0.01...  \n",
       "2  [5.2648e-05, 0.0004987813, -0.0005283586, -0.0...  \n",
       "3  [-0.0484109446, -0.0004909278, -0.0216075275, ...  \n",
       "4  [-0.0305632632, 0.0001149263, -0.0130742388, -...  "
      ]
     },
     "execution_count": 2,
     "metadata": {},
     "output_type": "execute_result"
    }
   ],
   "source": [
    "df.head()"
   ]
  },
  {
   "cell_type": "code",
   "execution_count": null,
   "metadata": {},
   "outputs": [],
   "source": [
    "np.array(df['embedding'].values)"
   ]
  },
  {
   "cell_type": "code",
   "execution_count": 10,
   "metadata": {},
   "outputs": [],
   "source": [
    "embedding_mat =[]\n",
    "for i, row in df.iterrows():\n",
    "    emb=row['embedding']\n",
    "    embedding_mat.append(emb)"
   ]
  },
  {
   "cell_type": "code",
   "execution_count": 13,
   "metadata": {},
   "outputs": [],
   "source": [
    "entities = df.entity.to_list()"
   ]
  },
  {
   "cell_type": "markdown",
   "metadata": {},
   "source": [
    "### alternatively you can store as csv with X columns (X is the dimension of the emebdding)"
   ]
  },
  {
   "cell_type": "code",
   "execution_count": 20,
   "metadata": {},
   "outputs": [],
   "source": [
    "df_emb =pd.DataFrame( embedding_mat, columns= ['feature'+str(i) for i in range(len(emb))])"
   ]
  },
  {
   "cell_type": "code",
   "execution_count": 22,
   "metadata": {},
   "outputs": [],
   "source": [
    "df_emb['entity'] = entities"
   ]
  },
  {
   "cell_type": "code",
   "execution_count": 23,
   "metadata": {},
   "outputs": [],
   "source": [
    "df_emb.to_csv('neurodkg_embedding.csv', index=False)"
   ]
  },
  {
   "cell_type": "code",
   "execution_count": 24,
   "metadata": {},
   "outputs": [
    {
     "data": {
      "text/html": [
       "<div>\n",
       "<style scoped>\n",
       "    .dataframe tbody tr th:only-of-type {\n",
       "        vertical-align: middle;\n",
       "    }\n",
       "\n",
       "    .dataframe tbody tr th {\n",
       "        vertical-align: top;\n",
       "    }\n",
       "\n",
       "    .dataframe thead th {\n",
       "        text-align: right;\n",
       "    }\n",
       "</style>\n",
       "<table border=\"1\" class=\"dataframe\">\n",
       "  <thead>\n",
       "    <tr style=\"text-align: right;\">\n",
       "      <th></th>\n",
       "      <th>feature0</th>\n",
       "      <th>feature1</th>\n",
       "      <th>feature2</th>\n",
       "      <th>feature3</th>\n",
       "      <th>feature4</th>\n",
       "      <th>feature5</th>\n",
       "      <th>feature6</th>\n",
       "      <th>feature7</th>\n",
       "      <th>feature8</th>\n",
       "      <th>feature9</th>\n",
       "      <th>...</th>\n",
       "      <th>feature491</th>\n",
       "      <th>feature492</th>\n",
       "      <th>feature493</th>\n",
       "      <th>feature494</th>\n",
       "      <th>feature495</th>\n",
       "      <th>feature496</th>\n",
       "      <th>feature497</th>\n",
       "      <th>feature498</th>\n",
       "      <th>feature499</th>\n",
       "      <th>entity</th>\n",
       "    </tr>\n",
       "  </thead>\n",
       "  <tbody>\n",
       "    <tr>\n",
       "      <th>0</th>\n",
       "      <td>-0.054166</td>\n",
       "      <td>-0.001200</td>\n",
       "      <td>-0.023321</td>\n",
       "      <td>-0.025693</td>\n",
       "      <td>0.007637</td>\n",
       "      <td>0.028217</td>\n",
       "      <td>-0.059239</td>\n",
       "      <td>-0.111202</td>\n",
       "      <td>0.058704</td>\n",
       "      <td>0.097079</td>\n",
       "      <td>...</td>\n",
       "      <td>-0.023000</td>\n",
       "      <td>0.048445</td>\n",
       "      <td>-0.126150</td>\n",
       "      <td>0.008552</td>\n",
       "      <td>0.045284</td>\n",
       "      <td>-0.042427</td>\n",
       "      <td>0.002812</td>\n",
       "      <td>-0.016124</td>\n",
       "      <td>0.061127</td>\n",
       "      <td>http://www.w3id.org/neurodkg/Instances/context9</td>\n",
       "    </tr>\n",
       "    <tr>\n",
       "      <th>1</th>\n",
       "      <td>-0.028437</td>\n",
       "      <td>-0.000285</td>\n",
       "      <td>-0.012574</td>\n",
       "      <td>-0.013913</td>\n",
       "      <td>0.005279</td>\n",
       "      <td>0.015798</td>\n",
       "      <td>-0.031356</td>\n",
       "      <td>-0.057418</td>\n",
       "      <td>0.030944</td>\n",
       "      <td>0.049776</td>\n",
       "      <td>...</td>\n",
       "      <td>-0.012453</td>\n",
       "      <td>0.024986</td>\n",
       "      <td>-0.064281</td>\n",
       "      <td>0.004008</td>\n",
       "      <td>0.024315</td>\n",
       "      <td>-0.021258</td>\n",
       "      <td>0.001715</td>\n",
       "      <td>-0.008117</td>\n",
       "      <td>0.032511</td>\n",
       "      <td>DRUGBANK:DB00715</td>\n",
       "    </tr>\n",
       "    <tr>\n",
       "      <th>2</th>\n",
       "      <td>0.000053</td>\n",
       "      <td>0.000499</td>\n",
       "      <td>-0.000528</td>\n",
       "      <td>-0.000492</td>\n",
       "      <td>-0.000374</td>\n",
       "      <td>0.000900</td>\n",
       "      <td>0.000079</td>\n",
       "      <td>-0.000560</td>\n",
       "      <td>-0.000531</td>\n",
       "      <td>-0.000062</td>\n",
       "      <td>...</td>\n",
       "      <td>0.000155</td>\n",
       "      <td>-0.000390</td>\n",
       "      <td>0.000237</td>\n",
       "      <td>0.000389</td>\n",
       "      <td>-0.000486</td>\n",
       "      <td>0.000045</td>\n",
       "      <td>0.000660</td>\n",
       "      <td>-0.000614</td>\n",
       "      <td>0.000130</td>\n",
       "      <td>6-16</td>\n",
       "    </tr>\n",
       "    <tr>\n",
       "      <th>3</th>\n",
       "      <td>-0.048411</td>\n",
       "      <td>-0.000491</td>\n",
       "      <td>-0.021608</td>\n",
       "      <td>-0.021919</td>\n",
       "      <td>0.007285</td>\n",
       "      <td>0.026013</td>\n",
       "      <td>-0.051671</td>\n",
       "      <td>-0.096173</td>\n",
       "      <td>0.051644</td>\n",
       "      <td>0.085442</td>\n",
       "      <td>...</td>\n",
       "      <td>-0.020548</td>\n",
       "      <td>0.042250</td>\n",
       "      <td>-0.110233</td>\n",
       "      <td>0.006751</td>\n",
       "      <td>0.039705</td>\n",
       "      <td>-0.037478</td>\n",
       "      <td>0.003409</td>\n",
       "      <td>-0.013098</td>\n",
       "      <td>0.053585</td>\n",
       "      <td>http://www.w3id.org/neurodkg/Instances/context146</td>\n",
       "    </tr>\n",
       "    <tr>\n",
       "      <th>4</th>\n",
       "      <td>-0.030563</td>\n",
       "      <td>0.000115</td>\n",
       "      <td>-0.013074</td>\n",
       "      <td>-0.013160</td>\n",
       "      <td>0.005226</td>\n",
       "      <td>0.015172</td>\n",
       "      <td>-0.032794</td>\n",
       "      <td>-0.060222</td>\n",
       "      <td>0.032836</td>\n",
       "      <td>0.053627</td>\n",
       "      <td>...</td>\n",
       "      <td>-0.012203</td>\n",
       "      <td>0.025620</td>\n",
       "      <td>-0.069523</td>\n",
       "      <td>0.004061</td>\n",
       "      <td>0.024678</td>\n",
       "      <td>-0.023869</td>\n",
       "      <td>0.001071</td>\n",
       "      <td>-0.009343</td>\n",
       "      <td>0.033984</td>\n",
       "      <td>http://www.w3id.org/doid/12129</td>\n",
       "    </tr>\n",
       "  </tbody>\n",
       "</table>\n",
       "<p>5 rows × 501 columns</p>\n",
       "</div>"
      ],
      "text/plain": [
       "   feature0  feature1  feature2  feature3  feature4  feature5  feature6  \\\n",
       "0 -0.054166 -0.001200 -0.023321 -0.025693  0.007637  0.028217 -0.059239   \n",
       "1 -0.028437 -0.000285 -0.012574 -0.013913  0.005279  0.015798 -0.031356   \n",
       "2  0.000053  0.000499 -0.000528 -0.000492 -0.000374  0.000900  0.000079   \n",
       "3 -0.048411 -0.000491 -0.021608 -0.021919  0.007285  0.026013 -0.051671   \n",
       "4 -0.030563  0.000115 -0.013074 -0.013160  0.005226  0.015172 -0.032794   \n",
       "\n",
       "   feature7  feature8  feature9  ...  feature491  feature492  feature493  \\\n",
       "0 -0.111202  0.058704  0.097079  ...   -0.023000    0.048445   -0.126150   \n",
       "1 -0.057418  0.030944  0.049776  ...   -0.012453    0.024986   -0.064281   \n",
       "2 -0.000560 -0.000531 -0.000062  ...    0.000155   -0.000390    0.000237   \n",
       "3 -0.096173  0.051644  0.085442  ...   -0.020548    0.042250   -0.110233   \n",
       "4 -0.060222  0.032836  0.053627  ...   -0.012203    0.025620   -0.069523   \n",
       "\n",
       "   feature494  feature495  feature496  feature497  feature498  feature499  \\\n",
       "0    0.008552    0.045284   -0.042427    0.002812   -0.016124    0.061127   \n",
       "1    0.004008    0.024315   -0.021258    0.001715   -0.008117    0.032511   \n",
       "2    0.000389   -0.000486    0.000045    0.000660   -0.000614    0.000130   \n",
       "3    0.006751    0.039705   -0.037478    0.003409   -0.013098    0.053585   \n",
       "4    0.004061    0.024678   -0.023869    0.001071   -0.009343    0.033984   \n",
       "\n",
       "                                              entity  \n",
       "0    http://www.w3id.org/neurodkg/Instances/context9  \n",
       "1                                   DRUGBANK:DB00715  \n",
       "2                                               6-16  \n",
       "3  http://www.w3id.org/neurodkg/Instances/context146  \n",
       "4                     http://www.w3id.org/doid/12129  \n",
       "\n",
       "[5 rows x 501 columns]"
      ]
     },
     "execution_count": 24,
     "metadata": {},
     "output_type": "execute_result"
    }
   ],
   "source": [
    "df_emb.head()"
   ]
  }
 ],
 "metadata": {
  "kernelspec": {
   "display_name": "Python 3",
   "language": "python",
   "name": "python3"
  },
  "language_info": {
   "codemirror_mode": {
    "name": "ipython",
    "version": 3
   },
   "file_extension": ".py",
   "mimetype": "text/x-python",
   "name": "python",
   "nbconvert_exporter": "python",
   "pygments_lexer": "ipython3",
   "version": "3.8.5"
  }
 },
 "nbformat": 4,
 "nbformat_minor": 4
}
